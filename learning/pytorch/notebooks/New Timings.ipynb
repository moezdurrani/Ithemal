{
 "cells": [
  {
   "cell_type": "code",
   "execution_count": null,
   "metadata": {},
   "outputs": [],
   "source": [
    "%matplotlib inline\n",
    "\n",
    "import pandas as pd\n",
    "import numpy as np\n",
    "import common_libs.utilities as ut\n",
    "import matplotlib.pyplot as plt\n",
    "import torch"
   ]
  },
  {
   "cell_type": "code",
   "execution_count": null,
   "metadata": {},
   "outputs": [],
   "source": [
    "t = pd.read_sql('SELECT * FROM time JOIN time_metadata ON time.time_id=time_metadata.time_id WHERE kind_id=1', cnx = ut.create_connection()).set_index('time_id')"
   ]
  },
  {
   "cell_type": "code",
   "execution_count": null,
   "metadata": {},
   "outputs": [],
   "source": [
    "good_times = t[(t['l1drmisses'] <= 0) & (t['l1dwmisses'] <= 0) & (t['l1imisses'] <= 0) & (t['conswitch'] <= 0)]"
   ]
  },
  {
   "cell_type": "code",
   "execution_count": null,
   "metadata": {},
   "outputs": [],
   "source": [
    "def percentile(k):\n",
    "    return lambda a: np.percentile(a, k)"
   ]
  },
  {
   "cell_type": "code",
   "execution_count": null,
   "metadata": {},
   "outputs": [],
   "source": [
    "summaries = good_times.groupby('code_id').agg({'code_id': 'count', 'cycle_count': percentile(20)})"
   ]
  },
  {
   "cell_type": "code",
   "execution_count": null,
   "metadata": {},
   "outputs": [],
   "source": [
    "true_cycles = summaries[summaries['code_id'] > 1]['cycle_count']"
   ]
  },
  {
   "cell_type": "code",
   "execution_count": null,
   "metadata": {},
   "outputs": [],
   "source": [
    "data = torch.load('../saved/data_040519.data')\n",
    "test_code_ids = set([d[0] for d in data[int(len(data)*.8):]])"
   ]
  },
  {
   "cell_type": "code",
   "execution_count": null,
   "metadata": {},
   "outputs": [],
   "source": [
    "t_intel = pd.read_sql('SELECT * FROM time WHERE kind_id=2', ut.create_connection()).groupby('code_id').mean()['cycle_count']\n",
    "err = ((true_cycles - t_intel).abs() / true_cycles).dropna()\n",
    "test_err = ((true_cycles - t_intel[t_intel.index.isin(test_code_ids)]).abs() / true_cycles).dropna()\n",
    "print('Intel: {}/{} ({:.0f}%) blocks\\nAverage error {}\\n{}/{} ({:.0f}%) test blocks\\nAverage error {}'.format(\n",
    "    len(err), len(true_cycles.dropna()), 100 * (float(len(err)) / len(true_cycles.dropna())),\n",
    "    err.mean(),\n",
    "    len(test_err), len(test_code_ids), 100 * (float(len(test_err)) / len(test_code_ids)),\n",
    "    test_err.mean()\n",
    "))"
   ]
  },
  {
   "cell_type": "code",
   "execution_count": null,
   "metadata": {},
   "outputs": [],
   "source": [
    "t_llvm = pd.read_sql('SELECT * FROM time WHERE kind_id=3', ut.create_connection()).groupby('code_id').mean()['cycle_count']\n",
    "err = ((true_cycles - t_llvm).abs() / true_cycles).dropna()\n",
    "test_err = ((true_cycles - t_llvm[t_llvm.index.isin(test_code_ids)]).abs() / true_cycles).dropna()\n",
    "print('LLVM: {}/{} ({:.0f}%) blocks\\nAverage error {}\\n{}/{} ({:.0f}%) test blocks\\nAverage error {}'.format(\n",
    "    len(err), len(true_cycles.dropna()), 100 * (float(len(err)) / len(true_cycles.dropna())),\n",
    "    err.mean(),\n",
    "    len(test_err), len(test_code_ids), 100 * (float(len(test_err)) / len(test_code_ids)),\n",
    "    test_err.mean()\n",
    "))"
   ]
  },
  {
   "cell_type": "code",
   "execution_count": null,
   "metadata": {},
   "outputs": [],
   "source": []
  }
 ],
 "metadata": {
  "language_info": {
   "name": "python",
   "pygments_lexer": "ipython3"
  }
 },
 "nbformat": 4,
 "nbformat_minor": 2
}
